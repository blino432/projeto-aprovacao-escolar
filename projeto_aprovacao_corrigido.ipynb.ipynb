{
 "cells": [
  {
   "cell_type": "markdown",
   "id": "930acc48",
   "metadata": {},
   "source": [
    "# Projeto Final - Introdução à Ciência de Dados\n",
    "### Tema: Previsão de Aprovação Escolar com Machine Learning"
   ]
  },
  {
   "cell_type": "markdown",
   "id": "07569133",
   "metadata": {},
   "source": [
    "Este projeto visa prever a aprovação de alunos com base em variáveis como horas de estudo, frequência, notas, acesso à internet e apoio familiar, utilizando modelos de aprendizado de máquina."
   ]
  },
  {
   "cell_type": "code",
   "execution_count": 1,
   "id": "ef3a5458",
   "metadata": {},
   "outputs": [],
   "source": [
    "# Importar bibliotecas\n",
    "import pandas as pd\n",
    "import numpy as np\n",
    "import matplotlib.pyplot as plt\n",
    "import seaborn as sns\n",
    "from sklearn.model_selection import train_test_split\n",
    "from sklearn.preprocessing import StandardScaler\n",
    "from sklearn.linear_model import LogisticRegression\n",
    "from sklearn.ensemble import RandomForestClassifier\n",
    "from sklearn.metrics import classification_report, accuracy_score"
   ]
  },
  {
   "cell_type": "code",
   "execution_count": 2,
   "id": "b664cec8",
   "metadata": {},
   "outputs": [
    {
     "data": {
      "text/html": [
       "<div>\n",
       "<style scoped>\n",
       "    .dataframe tbody tr th:only-of-type {\n",
       "        vertical-align: middle;\n",
       "    }\n",
       "\n",
       "    .dataframe tbody tr th {\n",
       "        vertical-align: top;\n",
       "    }\n",
       "\n",
       "    .dataframe thead th {\n",
       "        text-align: right;\n",
       "    }\n",
       "</style>\n",
       "<table border=\"1\" class=\"dataframe\">\n",
       "  <thead>\n",
       "    <tr style=\"text-align: right;\">\n",
       "      <th></th>\n",
       "      <th>horas estudo</th>\n",
       "      <th>frequencia %</th>\n",
       "      <th>nota P1</th>\n",
       "      <th>nota P2</th>\n",
       "      <th>tem acesso internet</th>\n",
       "      <th>apoio familiar</th>\n",
       "      <th>aprovado</th>\n",
       "    </tr>\n",
       "  </thead>\n",
       "  <tbody>\n",
       "    <tr>\n",
       "      <th>0</th>\n",
       "      <td>3.496714</td>\n",
       "      <td>88.577874</td>\n",
       "      <td>3.608359</td>\n",
       "      <td>7.135483</td>\n",
       "      <td>1</td>\n",
       "      <td>0</td>\n",
       "      <td>0</td>\n",
       "    </tr>\n",
       "    <tr>\n",
       "      <th>1</th>\n",
       "      <td>2.861736</td>\n",
       "      <td>90.607845</td>\n",
       "      <td>5.100937</td>\n",
       "      <td>4.616752</td>\n",
       "      <td>0</td>\n",
       "      <td>1</td>\n",
       "      <td>0</td>\n",
       "    </tr>\n",
       "    <tr>\n",
       "      <th>2</th>\n",
       "      <td>3.647689</td>\n",
       "      <td>95.830512</td>\n",
       "      <td>6.007866</td>\n",
       "      <td>7.304409</td>\n",
       "      <td>1</td>\n",
       "      <td>0</td>\n",
       "      <td>1</td>\n",
       "    </tr>\n",
       "    <tr>\n",
       "      <th>3</th>\n",
       "      <td>4.523030</td>\n",
       "      <td>95.538021</td>\n",
       "      <td>6.070471</td>\n",
       "      <td>8.033457</td>\n",
       "      <td>1</td>\n",
       "      <td>1</td>\n",
       "      <td>1</td>\n",
       "    </tr>\n",
       "    <tr>\n",
       "      <th>4</th>\n",
       "      <td>2.765847</td>\n",
       "      <td>71.223306</td>\n",
       "      <td>5.324902</td>\n",
       "      <td>6.620152</td>\n",
       "      <td>1</td>\n",
       "      <td>1</td>\n",
       "      <td>0</td>\n",
       "    </tr>\n",
       "  </tbody>\n",
       "</table>\n",
       "</div>"
      ],
      "text/plain": [
       "   horas estudo  frequencia %   nota P1   nota P2  tem acesso internet  \\\n",
       "0      3.496714     88.577874  3.608359  7.135483                    1   \n",
       "1      2.861736     90.607845  5.100937  4.616752                    0   \n",
       "2      3.647689     95.830512  6.007866  7.304409                    1   \n",
       "3      4.523030     95.538021  6.070471  8.033457                    1   \n",
       "4      2.765847     71.223306  5.324902  6.620152                    1   \n",
       "\n",
       "   apoio familiar  aprovado  \n",
       "0               0         0  \n",
       "1               1         0  \n",
       "2               0         1  \n",
       "3               1         1  \n",
       "4               1         0  "
      ]
     },
     "execution_count": 2,
     "metadata": {},
     "output_type": "execute_result"
    }
   ],
   "source": [
    "# Gerar dados simulados\n",
    "np.random.seed(42)\n",
    "data = pd.DataFrame({\n",
    "    'horas estudo': np.random.normal(3, 1, 200).clip(0, 10),\n",
    "    'frequencia %': np.random.normal(85, 10, 200).clip(50, 100),\n",
    "    'nota P1': np.random.normal(6, 1.5, 200).clip(0, 10),\n",
    "    'nota P2': np.random.normal(6, 1.5, 200).clip(0, 10),\n",
    "    'tem acesso internet': np.random.choice([1, 0], size=200, p=[0.8, 0.2]),\n",
    "    'apoio familiar': np.random.choice([1, 0], size=200, p=[0.7, 0.3]),\n",
    "})\n",
    "media_final = (data['nota P1'] + data['nota P2']) / 2\n",
    "data['aprovado'] = ((media_final >= 6) & (data['frequencia %'] >= 75)).astype(int)\n",
    "data.head()"
   ]
  },
  {
   "cell_type": "code",
   "execution_count": 3,
   "id": "cd6fb2aa",
   "metadata": {},
   "outputs": [],
   "source": [
    "# Divisão de dados\n",
    "X = data.drop(columns=['aprovado'])\n",
    "y = data['aprovado']\n",
    "X_train, X_test, y_train, y_test = train_test_split(X, y, test_size=0.3, random_state=42)\n",
    "scaler = StandardScaler()\n",
    "X_train_scaled = scaler.fit_transform(X_train)\n",
    "X_test_scaled = scaler.transform(X_test)"
   ]
  },
  {
   "cell_type": "code",
   "execution_count": 4,
   "id": "063b941a",
   "metadata": {},
   "outputs": [],
   "source": [
    "# Treinamento de modelos\n",
    "log_model = LogisticRegression()\n",
    "rf_model = RandomForestClassifier(random_state=42)\n",
    "log_model.fit(X_train_scaled, y_train)\n",
    "rf_model.fit(X_train, y_train)\n",
    "y_pred_log = log_model.predict(X_test_scaled)\n",
    "y_pred_rf = rf_model.predict(X_test)"
   ]
  },
  {
   "cell_type": "code",
   "execution_count": 5,
   "id": "fc8e5862",
   "metadata": {},
   "outputs": [
    {
     "name": "stdout",
     "output_type": "stream",
     "text": [
      "Regressão Logística:\n",
      "              precision    recall  f1-score   support\n",
      "\n",
      "           0       0.78      0.94      0.85        31\n",
      "           1       0.91      0.72      0.81        29\n",
      "\n",
      "    accuracy                           0.83        60\n",
      "   macro avg       0.85      0.83      0.83        60\n",
      "weighted avg       0.85      0.83      0.83        60\n",
      "\n",
      "\n",
      "Random Forest:\n",
      "              precision    recall  f1-score   support\n",
      "\n",
      "           0       0.97      0.97      0.97        31\n",
      "           1       0.97      0.97      0.97        29\n",
      "\n",
      "    accuracy                           0.97        60\n",
      "   macro avg       0.97      0.97      0.97        60\n",
      "weighted avg       0.97      0.97      0.97        60\n",
      "\n"
     ]
    }
   ],
   "source": [
    "# Avaliação dos modelos\n",
    "print(\"Regressão Logística:\")\n",
    "print(classification_report(y_test, y_pred_log))\n",
    "print(\"\\nRandom Forest:\")\n",
    "print(classification_report(y_test, y_pred_rf))"
   ]
  }
 ],
 "metadata": {
  "kernelspec": {
   "display_name": "Python 3",
   "language": "python",
   "name": "python3"
  },
  "language_info": {
   "codemirror_mode": {
    "name": "ipython",
    "version": 3
   },
   "file_extension": ".py",
   "mimetype": "text/x-python",
   "name": "python",
   "nbconvert_exporter": "python",
   "pygments_lexer": "ipython3",
   "version": "3.11.9"
  }
 },
 "nbformat": 4,
 "nbformat_minor": 5
}
